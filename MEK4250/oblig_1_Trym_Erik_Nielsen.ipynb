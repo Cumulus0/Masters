{
 "cells": [
  {
   "cell_type": "markdown",
   "metadata": {},
   "source": [
    "# Obligatory assignment - **MEK4250** - *Trym Erik Nielsen*"
   ]
  },
  {
   "cell_type": "markdown",
   "metadata": {},
   "source": [
    "## Required imports"
   ]
  },
  {
   "cell_type": "code",
   "execution_count": null,
   "metadata": {},
   "outputs": [],
   "source": [
    "from dolfin import *\n",
    "import numpy as np\n",
    "import pandas as pd\n",
    "from matplotlib import pyplot as plt\n",
    "from IPython.display import display\n",
    "%matplotlib inline"
   ]
  },
  {
   "cell_type": "markdown",
   "metadata": {},
   "source": [
    "## Boundary class definitions"
   ]
  },
  {
   "cell_type": "code",
   "execution_count": null,
   "metadata": {},
   "outputs": [],
   "source": [
    "class Right(SubDomain):\n",
    "    def inside(self, x, on_boundary, eps=1.e-14):\n",
    "        return x[0] > 1 - eps\n",
    "\n",
    "\n",
    "class Left(SubDomain):\n",
    "    def inside(self, x, on_boundary, eps=1.e-14):\n",
    "        return x[0] < eps"
   ]
  },
  {
   "cell_type": "markdown",
   "metadata": {},
   "source": [
    "## Problem specific solver functions"
   ]
  },
  {
   "cell_type": "code",
   "execution_count": null,
   "metadata": {},
   "outputs": [],
   "source": [
    "def solver_prob_1(N=8, deg=1, k=1):\n",
    "    mesh = UnitSquareMesh(N, N)\n",
    "    V = FunctionSpace(mesh, 'P', deg)\n",
    "\n",
    "    #numerical and analytical expressions\n",
    "    u_e = Expression('sin(pi*k*x[0])*cos(pi*k*x[1])', degree=deg, k=k)\n",
    "    u_num = Function(V)\n",
    "\n",
    "    #Boundary conditions\n",
    "    bcs = [DirichletBC(V, Constant(0.0), Left()),\n",
    "           DirichletBC(V, Constant(1.0), Right())]\n",
    "\n",
    "    u = TrialFunction(V)\n",
    "    v = TestFunction(V)\n",
    "\n",
    "    f = Constant(1.0)\n",
    "    a = dot(grad(u), grad(v)) * dx\n",
    "    L = f * v * dx\n",
    "\n",
    "    u = Function(V)\n",
    "    solve(a == L, u, bcs)\n",
    "    \n",
    "    return mesh, u, V\n",
    "\n",
    "\n",
    "def solver_prob_2(N=8, mu=1, deg=1, galerkin=False):\n",
    "    \n",
    "    mesh = UnitSquareMesh(N, N)\n",
    "    V = FunctionSpace(mesh, 'P', deg)\n",
    "    u_num = Function(V)\n",
    "    \n",
    "    bcs = [\n",
    "        DirichletBC(V, Constant(0.0), Left()),\n",
    "        DirichletBC(V, Constant(1.0), Right()),\n",
    "    ]\n",
    "    \n",
    "    u = TrialFunction(V)\n",
    "    v = TestFunction(V)\n",
    "    \n",
    "    if galerkin:\n",
    "        beta = 0.5 * mesh.hmin()\n",
    "        v  = v + beta * v.dx(0)\n",
    "    \n",
    "    f = Constant(0.0)\n",
    "    g = Constant(0.0)    \n",
    "    \n",
    "    a = mu * inner(grad(u), grad(v)) * dx + u.dx(0) * v * dx\n",
    "    L = f * v * dx + g * v * ds\n",
    "    \n",
    "    solve(a==L, u_num, bcs)\n",
    "    \n",
    "    return u_num, V, mesh"
   ]
  },
  {
   "cell_type": "markdown",
   "metadata": {},
   "source": [
    "## Problem functions\n",
    "\n",
    "We can now define problem functions that call our problem specific solvers. We use pandas dataframes to display the errornorms for different frequencies and mesh refinements using the FEniCS built in errornorm function. Since errornorm does not support the $L_\\infty$ errornorm, we project our expression for the exact solution onto our subspace and take the maximum of the absolute value of the difference with the numerical solution. \n",
    "\n",
    "We also define the error fitting function that creates a linear best-fit between our error norms $L_2$ and $H_1$"
   ]
  },
  {
   "cell_type": "code",
   "execution_count": null,
   "metadata": {},
   "outputs": [],
   "source": [
    "def error_fit(L_2, H_1):\n",
    "    N = L_2.index.values\n",
    "    param = L_2.columns.values\n",
    "    best_fit_coeffs = pd.DataFrame(index=param, columns=['alpha', 'C_alpha', 'beta', 'C_beta'])\n",
    "    h_log = [np.log(1.0 / n) for n in N]\n",
    "    L_2_log = L_2.applymap(np.log)\n",
    "    H_1_log = H_1.applymap(np.log)\n",
    "    \n",
    "    plt.plot(h_log, L_2_log, 'r', h_log, H_1_log, 'b')\n",
    "    plt.title('LogLog plot of error norm VS cell size')\n",
    "    plt.xlabel('log(h)')\n",
    "    plt.ylabel('log(L_2) / Log(H_1)')\n",
    "    plt.show()\n",
    "    \n",
    "    for p in param:\n",
    "        L_2_fit = np.polyfit(h_log, L_2_log[p], deg=1)\n",
    "        H_1_fit = np.polyfit(h_log, H_1_log[p], deg=1)\n",
    "        \n",
    "        L_2_fit[1] = np.exp(L_2_fit[1])\n",
    "        H_1_fit[1] = np.exp(H_1_fit[1])\n",
    "    \n",
    "        best_fit_coeffs.loc[p] = list(L_2_fit) + list(H_1_fit)\n",
    "\n",
    "\n",
    "    return best_fit_coeffs   \n",
    "\n",
    "def prob_1(deg=1):\n",
    "    \n",
    "    N = [8, 16, 32, 64]\n",
    "    freqs = [1, 2, 4,8]\n",
    "    L_2_error = pd.DataFrame(index=N, columns=freqs)\n",
    "    L_inf_error = pd.DataFrame(index=N, columns=freqs)\n",
    "    H_1_error = pd.DataFrame(index=N, columns=freqs)\n",
    "    \n",
    "    \n",
    "    for n in N:\n",
    "        for freq in freqs:\n",
    "                mesh,u_num,V = solver_prob_1(N=n, deg=deg, k=freq)\n",
    "                u_ex = Expression('sin(k*pi*x[0])*cos(k*pi*x[1])', k=freq, degree=deg) \n",
    "                \n",
    "                L_2 = errornorm(u_ex, u_num, 'l2', degree_rise=1)\n",
    "                H_1 = errornorm(u_ex, u_num, 'H1', degree_rise=1)\n",
    "                \n",
    "                u_ex_values = interpolate(u_ex, V)\n",
    "                u_ex_vector = u_ex_values.vector()\n",
    "                u_num_vector = u_num.vector()\n",
    "                L_inf = max(np.abs(u_ex_vector - u_num_vector))\n",
    "\n",
    "                L_2_error.at[n, freq] = L_2\n",
    "                L_inf_error.at[n, freq] = L_inf\n",
    "                H_1_error.at[n, freq] = H_1\n",
    "    \n",
    "    \n",
    "    print('----- problem 1 - part b -------' + '\\n')\n",
    "    print('L2 error norm' + '\\n')\n",
    "    display(L_2_error)\n",
    "    print('L_inf error norm' + '\\n')\n",
    "    display(L_inf_error)\n",
    "    print('H1 error norm' + '\\n')\n",
    "    display(H_1_error)\n",
    "    print('\\n\\n\\n')\n",
    "    print('----- problem 1 - part c -------' + '\\n')\n",
    "    print('Best fit parameters')\n",
    "    display(error_fit(L_2_error, H_1_error))\n",
    "    \n",
    "    #plot highest accuracy mesh and u  \n",
    "    if deg > 1:\n",
    "        p = plot(u_num)\n",
    "        p.set_cmap('plasma')\n",
    "        p.set_clim(0.0, 1.0)\n",
    "        plt.title('u solution')\n",
    "        plt.colorbar(p)\n",
    "        plt.show()\n",
    "\n",
    "        \n",
    "def prob_2(deg=1, galerkin=False):\n",
    "    mu_values = [0.1, 0.3, 1.0]\n",
    "    N = [8, 16, 32, 64]\n",
    "\n",
    "    L_2_error = pd.DataFrame(index=N, columns=mu_values)\n",
    "    L_inf_error = pd.DataFrame(index=N, columns=mu_values)\n",
    "    H_1_error = pd.DataFrame(index=N, columns=mu_values)\n",
    "    \n",
    "    for mu in mu_values:\n",
    "        for n in N:\n",
    "            u_num, V, omega = solver_prob_2(N=n, mu=mu, deg=deg, galerkin=galerkin)\n",
    "            u_ex = Expression('(exp(1 / mu * x[0]) - 1) / (exp(1 / mu) - 1)', mu=mu, degree=deg)\n",
    "\n",
    "            L_2 = errornorm(u_ex, u_num, 'L2', degree_rise=3)\n",
    "            H_1 = errornorm(u_ex, u_num, 'H1', degree_rise=3)\n",
    "            u_ex_values = interpolate(u_ex, V)\n",
    "            u_ex_vector = u_ex_values.vector()\n",
    "            u_num_vector = u_num.vector()\n",
    "            L_inf = max(np.abs(u_ex_vector - u_num_vector))\n",
    "            \n",
    "            L_2_error.at[n, mu] = L_2\n",
    "            L_inf_error.at[n, mu] = L_inf\n",
    "            H_1_error.at[n, mu] = H_1\n",
    "            \n",
    "    print('----- problem 2 - part b -------' + '\\n')\n",
    "    print('L2 error norm' + '\\n')\n",
    "    display(L_2_error)\n",
    "    print('L_inf error norm' + '\\n')\n",
    "    display(L_inf_error)\n",
    "    print('H1 error norm' + '\\n')\n",
    "    display(H_1_error)\n",
    "    print('\\n\\n\\n')\n",
    "    print('----- problem 2 - part c -------' + '\\n')\n",
    "    print('Best fit parameters')\n",
    "    display(error_fit(L_2_error, H_1_error))\n",
    "            \n",
    "    if deg >= 1:\n",
    "        p = plot(u_num)\n",
    "        p.set_cmap('plasma')\n",
    "        p.set_clim(0.0, 1.0)\n",
    "        plt.title('u solution')\n",
    "        plt.colorbar(p)\n",
    "        plt.show()"
   ]
  },
  {
   "cell_type": "markdown",
   "metadata": {},
   "source": [
    "### $H^P$ norm of $u$\n",
    "\n",
    "The $H^P$ norm of the function $u$ can be expressed as\n",
    "$$\\vert \\vert \\, u \\, \\vert \\vert_P = \\left( \\sum^{}_{|\\alpha|\\leq p} \\int_\\Omega\n",
    "    \\big(\\frac{\\partial^{|\\alpha|} u}{\\partial {x}^\\alpha}\\big)^2 \\, dx\n",
    "\\right)^{1/2}$$ \n",
    "\n",
    "with $\\alpha = (i,j)$ in the two dimensional Cartesian space. Using our assumed $u$, and the fact that $f = - \\Delta u  = 2\\pi^2 k^2 u$, we find\n",
    "\n",
    "$$\\vert \\vert \\, u \\, \\vert \\vert_P = \\frac{1}{2} \\Big(\\sum^{}_{|\\alpha| \\leq p} (k\\pi)^{2|\\alpha|}\\Big)^{1/2}$$\n",
    "\n",
    "Since $\\int_0^1 \\sin(\\pi k x) = \\int_0^1 \\cos(\\pi k y) = \\frac{1}{2}$"
   ]
  },
  {
   "cell_type": "markdown",
   "metadata": {},
   "source": [
    "### Problem 1, Lagrange elements order 1"
   ]
  },
  {
   "cell_type": "code",
   "execution_count": null,
   "metadata": {},
   "outputs": [],
   "source": [
    "prob_1()"
   ]
  },
  {
   "cell_type": "markdown",
   "metadata": {},
   "source": [
    "### Problem 1, Lagrange elements order 2"
   ]
  },
  {
   "cell_type": "code",
   "execution_count": null,
   "metadata": {},
   "outputs": [],
   "source": [
    "prob_1(2)"
   ]
  },
  {
   "cell_type": "markdown",
   "metadata": {},
   "source": [
    "### Problem 2, without SUPG stablization, Lagrange elements order 2"
   ]
  },
  {
   "cell_type": "code",
   "execution_count": null,
   "metadata": {},
   "outputs": [],
   "source": [
    "prob_2(2)"
   ]
  },
  {
   "cell_type": "markdown",
   "metadata": {},
   "source": [
    "### Problem 2, with SUPG stabalization, Lagrange elements order 1 "
   ]
  },
  {
   "cell_type": "code",
   "execution_count": null,
   "metadata": {},
   "outputs": [],
   "source": [
    "prob_2(1, galerkin=True)"
   ]
  },
  {
   "cell_type": "markdown",
   "metadata": {},
   "source": [
    "## Problem 2 - discussion\n",
    "\n",
    "**Analytical Solution**  \n",
    "\n",
    "Our boundary value problem reads:\n",
    "$$ -\\mu\\Delta + u_x = 0 \\; in \\; \\Omega$$\n",
    "\n",
    "with Dirichlet BC's;\n",
    "\n",
    "$$u = 0 \\; for \\; x = 0$$\n",
    "\n",
    "$$u = 1 \\; for \\; x = 1$$\n",
    "\n",
    "and Neumann BC's:\n",
    "$$\\frac{\\partial{u}}{\\partial{n}} = 0 \\; for \\; y=0 \\; and \\; y=1$$\n",
    "\n",
    "\n",
    "We can solve this analytically by the method of seperation of variables, we let $u(x,y) = g(x)h(y)$ and plugging into our original equation and dividing by $\\mu$ gives us the two equations\n",
    "\n",
    "$$g''(x) - \\frac{1}{\\mu} - C_0 g(x) = 0 \\,,$$\n",
    "$$h''(y) + C_0 h(y) = 0 \\,,$$\n",
    "\n",
    "\n",
    "Solving for h and using the above Neumann b.c, we obtain:\n",
    "$$h(y) = C_1 \\cos(n \\pi y), \\; for \\: n=0,1,2, ..$$\n",
    "\n",
    "Choosing $n = 0$ we have $C_0 = 0$, and our expression for $h(y)$ becomes\n",
    "\n",
    "$$h(y) = C_1$$\n",
    "\n",
    "\n",
    "with $n = 0$, our expression for $g(x)$ can be expressed as\n",
    "\n",
    "$$g''(x) - \\frac{1}{\\mu} g'(x) = 0$$\n",
    "\n",
    "which gives the expression for $g(x)$\n",
    "\n",
    "$$g(x) = C_2 e^{\\frac{1}{\\mu} x} + C_3$$\n",
    "\n",
    "using the dirichlet conditions, we can solve for $C_2$ and $C_3$ we obtain the analytical expression for $u$ as \n",
    "\n",
    "$$u(x,y) = g(x)h(y) = \\frac{e^{\\frac{1}{\\mu} x} - 1}{e^{\\frac{1}{\\mu}} - 1}$$\n",
    "\n",
    "\n",
    "**Numerical error**  \n",
    "\n",
    "Problem 2 includes a convective $u_x$ term, and we can therefore reasonably expect a upwinding scheme to stablize the solution of our system. Both the $L_1$ and $H^1$ tend to zero linearly with the mesh size for both Lagrange elements of degree and 2. However, the $H^1$ norm tends to zero faster than the $L_1$ norm for lagrange elements of order 1. We can also see from the $C_\\alpha$ and $C_\\beta$ terms for upwinding leads to more accurate results for small $\\mu$ where the $u_x$ term dominates and low values of $N$"
   ]
  }
 ],
 "metadata": {
  "kernelspec": {
   "display_name": "Python 2",
   "language": "python",
   "name": "python2"
  },
  "language_info": {
   "codemirror_mode": {
    "name": "ipython",
    "version": 2
   },
   "file_extension": ".py",
   "mimetype": "text/x-python",
   "name": "python",
   "nbconvert_exporter": "python",
   "pygments_lexer": "ipython2",
   "version": "2.7.12"
  }
 },
 "nbformat": 4,
 "nbformat_minor": 2
}
